{
 "cells": [
  {
   "cell_type": "code",
   "execution_count": 282,
   "metadata": {},
   "outputs": [],
   "source": [
    "from gensim.models import Word2Vec\n",
    "\n",
    "def createWord2VecModel(sentences):\n",
    "    # train model\n",
    "    model = Word2Vec(sentences, min_count=1)\n",
    "    # summarize the loaded model\n",
    "    print(model)\n",
    "    # summarize vocabulary\n",
    "    words = list(model.wv.vocab)\n",
    "    print(words)\n",
    "    # access vector for one word\n",
    "    #print(model['sentence'])\n",
    "    # save model\n",
    "    model.wv.save_word2vec_format('model.txt', binary=False)\n",
    "    # load model\n",
    "    #new_model = Word2Vec.load('model.bin')\n",
    "    #print(new_model)"
   ]
  },
  {
   "cell_type": "code",
   "execution_count": 283,
   "metadata": {},
   "outputs": [],
   "source": [
    "#new Ideas\n",
    "\"\"\"\n",
    "convert all to lower case\n",
    "use word embeddings?\n",
    "word2vec using network related words...\n",
    "use android documentation for embeddings\n",
    "\"\"\"\n",
    "\n",
    "def splitClassNames(cls):\n",
    "    cls = cls.replace(\".\", \" \")\n",
    "    #print(cls)\n",
    "    return cls"
   ]
  },
  {
   "cell_type": "code",
   "execution_count": 284,
   "metadata": {},
   "outputs": [],
   "source": [
    "import re\n",
    "#spl = True to return the raw splited data\n",
    "def removeCamelCase(token, spl):\n",
    "    splitted = re.sub('([A-Z][a-z]+)', r' \\1', re.sub('([A-Z]+)', r' \\1', token)).split()\n",
    "    if spl:\n",
    "        return splitted\n",
    "    #print(splitted)\n",
    "    finalStr = \"\"\n",
    "    for splt in splitted:\n",
    "        finalStr += splt + \" \"\n",
    "    return finalStr\n",
    "\n"
   ]
  },
  {
   "cell_type": "code",
   "execution_count": 285,
   "metadata": {},
   "outputs": [],
   "source": [
    "def createSyntheticData(df):\n",
    "    counter = 40\n",
    "    for index, row in df.iterrows():\n",
    "        counter = 40\n",
    "        while True:\n",
    "            #print(\"inside while loop\")\n",
    "            if counter == 0:\n",
    "                break\n",
    "            df.append(row)\n",
    "            counter -= 1\n",
    "    return df        "
   ]
  },
  {
   "cell_type": "code",
   "execution_count": 286,
   "metadata": {
    "scrolled": false
   },
   "outputs": [
    {
     "name": "stdout",
     "output_type": "stream",
     "text": [
      "194\n",
      "194\n",
      "saving data to file...\n",
      "saved\n"
     ]
    }
   ],
   "source": [
    "import pandas as pd\n",
    "from sklearn.model_selection import train_test_split\n",
    "\n",
    "df = pd.read_csv(\"data/mappings_cleaned.csv\")\n",
    "\n",
    "print(len(df.index))\n",
    "\n",
    "\n",
    "for index, row in df.iterrows():\n",
    "    #print(getattr(row, \"text\"))\n",
    "    row[\"text\"] = splitClassNames(row[\"text\"])\n",
    "    row[\"text\"] = removeCamelCase(row[\"text\"], False)\n",
    "\n",
    "    row[\"text\"] = row[\"text\"].strip()\n",
    "    #print(row[\"text\"])\n",
    "\n",
    "#df = pd.concat([df]*40, ignore_index=True)\n",
    "\n",
    "df.to_csv(\"data/cleaned.csv\", index = False)\n",
    "\n",
    "print(len(df.index))\n",
    "\n",
    "train, test = train_test_split(df, test_size=0.2)\n",
    "\n",
    "print(\"saving data to file...\")\n",
    "train.to_csv(\"data/train.csv\", index = False)\n",
    "test.to_csv(\"data/test.csv\", index = False)\n",
    "print(\"saved\")\n",
    "\n",
    "\n",
    "\n",
    "\n",
    "#df = pd.read_csv(\"android.csv\")\n",
    "#df.head(200)"
   ]
  },
  {
   "cell_type": "code",
   "execution_count": 287,
   "metadata": {},
   "outputs": [],
   "source": [
    "#creating custom word2vec embeddings\n",
    "def createCustomEmbeddings(fileName):\n",
    "    df = pd.read_csv(fileName)\n",
    "\n",
    "    \n",
    "\n",
    "    sentences = []\n",
    "    for index, row in df.iterrows():\n",
    "        #print(\"index...\", index)\n",
    "        size = 6\n",
    "        i = 0\n",
    "        while i <= size:\n",
    "            temp = str(row[str(df.columns[i])])\n",
    "            #print(df[df.columns[i]])\n",
    "            i += 1\n",
    "            temp = removeCamelCase(splitClassNames(temp), spl=True)\n",
    "            #print(temp, \"------------^^^^^^-------\")\n",
    "            sentences.append(temp)\n",
    "            \n",
    "            \n",
    "    #print(sentences)     \n",
    "    #print(df.head(20))\n",
    "    \n",
    "    print(\"len of sentences \", len(sentences))\n",
    "    createWord2VecModel(sentences)\n",
    "\n",
    "    \n",
    "#createCustomEmbeddings(\"android.csv\")"
   ]
  },
  {
   "cell_type": "code",
   "execution_count": 288,
   "metadata": {},
   "outputs": [
    {
     "name": "stdout",
     "output_type": "stream",
     "text": [
      "{'location tags': 6, 'gps information': 5, 'address book': 1, 'application information': 1, 'application software': 2, 'application version number': 1, 'area code': 1, 'bluetooth settings': 8, 'browser language': 1, 'browser type': 2, 'calendar entries': 1, 'carrier network': 7, 'cell towers': 5, 'chat histories': 1, 'chat text': 2, 'contacts': 2, 'cookies': 1, 'country': 3, 'data': 1, 'device capability': 1, 'device characteristics': 4, 'device id': 3, 'device information': 1, 'device name': 1, 'devices hardware': 1, 'domain servers': 2, 'files': 4, 'gps': 3, 'hardware device id': 1, 'hardware information': 1, 'hardware settings': 1, 'high-level geographic information': 1, 'imei': 1, 'installed applications': 6, 'ip address': 2, 'latitude': 1, 'location': 8, 'location information': 1, 'longitude': 2, 'mcc': 3, 'mobile device id': 1, 'mobile device language setting': 4, 'mobile device type': 1, 'mobile phone model': 1, 'mobile service carrier name': 1, 'network information': 2, 'network measurements': 10, 'network protocol': 5, 'network type': 5, 'operating system information': 6, 'peripherals': 1, 'phone number': 3, 'postal code': 1, 'preferred language': 1, 'real-time location-based information': 1, 'referral url': 1, 'sensors': 3, 'service usage details': 1, 'sms messages': 2, 'specifc location data': 1, 'specific geolocation': 1, 'telecommunications carrier information': 8, 'text messages': 2, 'time': 1, 'time zone': 1, 'udid': 1, 'unique application number': 2, 'unique device id': 2, 'url': 5, 'user content': 2, 'user information': 3, 'users internet protocol': 1, 'wi-fi access point information': 8, 'wi-fi access points': 1, 'wifi signal strength': 3, 'zip code': 3}\n"
     ]
    },
    {
     "data": {
      "image/png": "[encoded data removed]",
      "text/plain": [
       "<Figure size 432x288 with 1 Axes>"
      ]
     },
     "metadata": {
      "needs_background": "light"
     },
     "output_type": "display_data"
    }
   ],
   "source": [
    "#stat for the data\n",
    "\n",
    "import matplotlib.pyplot as plt\n",
    "\n",
    "dict = {}\n",
    "df.head(10) \n",
    "for index, row in df.iterrows():\n",
    "    if row[\"labels\"] in dict :\n",
    "        #print(\"inside if\")\n",
    "        dict[row[\"labels\"]] += 1\n",
    "    else:\n",
    "        #print(\"inside else\")\n",
    "        dict[row[\"labels\"]] = 1\n",
    "    \n",
    "print(dict)\n",
    "\n",
    "\n",
    "plt.bar(range(len(dict)), list(dict.values()), align='center')\n",
    "#plt.xticks(range(len(dict)), list(dict.keys()))\n",
    "plt.show()"
   ]
  },
  {
   "cell_type": "code",
   "execution_count": 289,
   "metadata": {},
   "outputs": [
    {
     "name": "stdout",
     "output_type": "stream",
     "text": [
      "{'text': ['android', 'location', 'location', 'get', 'altitude'], 'labels': 'gps information'}\n"
     ]
    }
   ],
   "source": [
    "import torch\n",
    "from torchtext import data\n",
    "from torchtext import datasets\n",
    "from torchtext import vocab\n",
    "import random\n",
    "import numpy as np\n",
    "\n",
    "TEXT = data.Field(tokenize = 'spacy', lower=True)\n",
    "LABEL = data.LabelField()\n",
    "\n",
    "fields=[('text', TEXT), ('labels', LABEL)]\n",
    "train_data, test_data= data.TabularDataset.splits(\n",
    "                                        path = 'data',\n",
    "                                        train = 'cleaned.csv',\n",
    "                                        test = 'test.csv',\n",
    "                                        #validation = 'valid.csv',\n",
    "                                        format = 'csv',\n",
    "                                        fields = fields,\n",
    "                                        skip_header = True\n",
    ")\n",
    "\n",
    "print(train_data[1].__dict__)\n"
   ]
  },
  {
   "cell_type": "code",
   "execution_count": 290,
   "metadata": {},
   "outputs": [
    {
     "name": "stdout",
     "output_type": "stream",
     "text": [
      "39\n",
      "location tags\n",
      "<class 'torch.Tensor'>\n",
      "defaultdict(None, {'network measurements': 0, 'bluetooth settings': 1, 'location': 2, 'telecommunications carrier information': 3, 'wi-fi access point information': 4, 'carrier network': 5, 'installed applications': 6, 'location tags': 7, 'operating system information': 8, 'cell towers': 9, 'gps information': 10, 'network protocol': 11, 'network type': 12, 'url': 13, 'device characteristics': 14, 'files': 15, 'mobile device language setting': 16, 'country': 17, 'device id': 18, 'gps': 19, 'mcc': 20, 'phone number': 21, 'sensors': 22, 'user information': 23, 'wifi signal strength': 24, 'zip code': 25, 'application software': 26, 'browser type': 27, 'chat text': 28, 'contacts': 29, 'domain servers': 30, 'ip address': 31, 'longitude': 32, 'network information': 33, 'sms messages': 34, 'text messages': 35, 'unique application number': 36, 'unique device id': 37, 'user content': 38, 'address book': 39, 'application information': 40, 'application version number': 41, 'area code': 42, 'browser language': 43, 'calendar entries': 44, 'chat histories': 45, 'cookies': 46, 'data': 47, 'device capability': 48, 'device information': 49, 'device name': 50, 'devices hardware': 51, 'hardware device id': 52, 'hardware information': 53, 'hardware settings': 54, 'high-level geographic information': 55, 'imei': 56, 'latitude': 57, 'location information': 58, 'mobile device id': 59, 'mobile device type': 60, 'mobile phone model': 61, 'mobile service carrier name': 62, 'peripherals': 63, 'postal code': 64, 'preferred language': 65, 'real-time location-based information': 66, 'referral url': 67, 'service usage details': 68, 'specifc location data': 69, 'specific geolocation': 70, 'time': 71, 'time zone': 72, 'udid': 73, 'users internet protocol': 74, 'wi-fi access points': 75})\n",
      "len of prev train data 194\n",
      "len of current train and valid 136 58\n",
      "length of valid data location tags\n",
      "173\n"
     ]
    }
   ],
   "source": [
    "\n",
    "\n",
    "SEED = 1234\n",
    "MAX_VOCAB_SIZE = 25000\n",
    "vec = vocab.Vectors('model.txt', cache='.vector_cache')\n",
    "\n",
    "TEXT.build_vocab(train_data, \n",
    "                 max_size = MAX_VOCAB_SIZE, \n",
    "                 vectors = vec, \n",
    "                 unk_init = torch.Tensor.normal_)\n",
    "\n",
    "LABEL.build_vocab(train_data)\n",
    "print(len(test_data))\n",
    "print(train_data[0].__dict__[\"labels\"])\n",
    "\n",
    "print(type(TEXT.vocab.vectors))\n",
    "print( LABEL.vocab.stoi)\n",
    "\n",
    "print(\"len of prev train data\", len(train_data))\n",
    "\n",
    "train_data, valid_data = train_data.split(random_state = random.seed(SEED))\n",
    "print(\"len of current train and valid\", len(train_data), len(valid_data))\n",
    "print(\"length of valid data\", valid_data[0].__dict__[\"labels\"])\n",
    "\n",
    "print(len(TEXT.vocab))"
   ]
  },
  {
   "cell_type": "code",
   "execution_count": 291,
   "metadata": {},
   "outputs": [
    {
     "name": "stdout",
     "output_type": "stream",
     "text": [
      "device cpu\n",
      "173\n"
     ]
    }
   ],
   "source": [
    "BATCH_SIZE = 8\n",
    "\n",
    "device = torch.device('cuda' if torch.cuda.is_available() else 'cpu')\n",
    "print(\"device\", device)\n",
    "train_iterator, valid_iterator, test_iterator = data.BucketIterator.splits(\n",
    "    (train_data, valid_data, test_data), \n",
    "    batch_size = BATCH_SIZE, \n",
    "    sort_key=lambda x: len(x.text),##new added\n",
    "    device = device)\n",
    "\n",
    "print(len(TEXT.vocab))"
   ]
  },
  {
   "cell_type": "code",
   "execution_count": null,
   "metadata": {},
   "outputs": [],
   "source": []
  },
  {
   "cell_type": "code",
   "execution_count": null,
   "metadata": {},
   "outputs": [],
   "source": []
  },
  {
   "cell_type": "code",
   "execution_count": 292,
   "metadata": {},
   "outputs": [
    {
     "data": {
      "text/plain": [
       "'   \\nclass RNN(nn.Module):\\n    def __init__(self, vocab_size, embedding_dim, hidden_dim, output_dim, n_layers, \\n                 bidirectional, dropout, pad_idx):\\n        \\n        super().__init__()\\n        \\n        self.embedding = nn.Embedding(vocab_size, embedding_dim, padding_idx = pad_idx)\\n        \\n        self.rnn = nn.LSTM(embedding_dim, \\n                           hidden_dim, \\n                           num_layers=n_layers, \\n                           bidirectional=bidirectional, \\n                           dropout=dropout)\\n        \\n        self.fc = nn.Linear(hidden_dim * 2, output_dim)\\n        \\n        self.dropout = nn.Dropout(dropout)\\n        \\n    def forward(self, text, text_lengths):\\n        \\n        #text = [sent len, batch size]\\n        text = text.permute(1, 0)\\n        embedded = self.dropout(self.embedding(text))\\n        \\n        #embedded = [sent len, batch size, emb dim]\\n        \\n        #pack sequence\\n        packed_embedded = nn.utils.rnn.pack_padded_sequence(embedded, text_lengths)\\n        \\n        packed_output, (hidden, cell) = self.rnn(packed_embedded)\\n        \\n        #unpack sequence\\n        output, output_lengths = nn.utils.rnn.pad_packed_sequence(packed_output)\\n\\n        #output = [sent len, batch size, hid dim * num directions]\\n        #output over padding tokens are zero tensors\\n        \\n        #hidden = [num layers * num directions, batch size, hid dim]\\n        #cell = [num layers * num directions, batch size, hid dim]\\n        \\n        #concat the final forward (hidden[-2,:,:]) and backward (hidden[-1,:,:]) hidden layers\\n        #and apply dropout\\n        \\n        hidden = self.dropout(torch.cat((hidden[-2,:,:], hidden[-1,:,:]), dim = 1))\\n                \\n        #hidden = [batch size, hid dim * num directions]\\n            \\n        return self.fc(hidden)'"
      ]
     },
     "execution_count": 292,
     "metadata": {},
     "output_type": "execute_result"
    }
   ],
   "source": [
    "import torch.nn as nn\n",
    "import torch.nn.functional as F\n",
    "\n",
    "class CNN(nn.Module):\n",
    "    def __init__(self, vocab_size, embedding_dim, n_filters, filter_sizes, output_dim, \n",
    "                 dropout, pad_idx):\n",
    "        \n",
    "        super().__init__()\n",
    "        \n",
    "        self.embedding = nn.Embedding(vocab_size, embedding_dim)\n",
    "        \n",
    "        self.convs = nn.ModuleList([\n",
    "                                    nn.Conv2d(in_channels = 1, \n",
    "                                              out_channels = n_filters, \n",
    "                                              kernel_size = (fs, embedding_dim)) \n",
    "                                    for fs in filter_sizes\n",
    "                                    ])\n",
    "        \n",
    "        self.fc = nn.Linear(len(filter_sizes) * n_filters, output_dim)\n",
    "        \n",
    "        self.dropout = nn.Dropout(dropout)\n",
    "        \n",
    "    def forward(self, text):\n",
    "        \n",
    "        #text = [sent len, batch size]\n",
    "        #print(\"shape of text\", text.shape)\n",
    "        text = text.permute(1, 0)\n",
    "        #print(\"shape of text after permute\", text.shape)\n",
    "\n",
    "        #text = [batch size, sent len]\n",
    "        #print(\"cnn...1\")\n",
    "        embedded = self.embedding(text)\n",
    "                \n",
    "        #embedded = [batch size, sent len, emb dim]\n",
    "        #print(\"cnn...2 size of embeded\", embedded.shape)\n",
    "\n",
    "        embedded = embedded.unsqueeze(1)\n",
    "        \n",
    "        #embedded = [batch size, 1, sent len, emb dim]\n",
    "        #print(\"cnn...3\")\n",
    "        conved = [F.relu(conv(embedded)).squeeze(3) for conv in self.convs]\n",
    "            \n",
    "        #conv_n = [batch size, n_filters, sent len - filter_sizes[n]]\n",
    "        #print(\"cnn...4\")\n",
    "        pooled = [F.max_pool1d(conv, conv.shape[2]).squeeze(2) for conv in conved]\n",
    "        \n",
    "        #pooled_n = [batch size, n_filters]\n",
    "        #print(\"cnn...5\")\n",
    "        cat = self.dropout(torch.cat(pooled, dim = 1))\n",
    "\n",
    "        #cat = [batch size, n_filters * len(filter_sizes)]\n",
    "        #print(\"cnn...6\")    \n",
    "        return self.fc(cat)\n",
    "    \n",
    "    \n",
    "\"\"\"   \n",
    "class RNN(nn.Module):\n",
    "    def __init__(self, vocab_size, embedding_dim, hidden_dim, output_dim, n_layers, \n",
    "                 bidirectional, dropout, pad_idx):\n",
    "        \n",
    "        super().__init__()\n",
    "        \n",
    "        self.embedding = nn.Embedding(vocab_size, embedding_dim, padding_idx = pad_idx)\n",
    "        \n",
    "        self.rnn = nn.LSTM(embedding_dim, \n",
    "                           hidden_dim, \n",
    "                           num_layers=n_layers, \n",
    "                           bidirectional=bidirectional, \n",
    "                           dropout=dropout)\n",
    "        \n",
    "        self.fc = nn.Linear(hidden_dim * 2, output_dim)\n",
    "        \n",
    "        self.dropout = nn.Dropout(dropout)\n",
    "        \n",
    "    def forward(self, text, text_lengths):\n",
    "        \n",
    "        #text = [sent len, batch size]\n",
    "        text = text.permute(1, 0)\n",
    "        embedded = self.dropout(self.embedding(text))\n",
    "        \n",
    "        #embedded = [sent len, batch size, emb dim]\n",
    "        \n",
    "        #pack sequence\n",
    "        packed_embedded = nn.utils.rnn.pack_padded_sequence(embedded, text_lengths)\n",
    "        \n",
    "        packed_output, (hidden, cell) = self.rnn(packed_embedded)\n",
    "        \n",
    "        #unpack sequence\n",
    "        output, output_lengths = nn.utils.rnn.pad_packed_sequence(packed_output)\n",
    "\n",
    "        #output = [sent len, batch size, hid dim * num directions]\n",
    "        #output over padding tokens are zero tensors\n",
    "        \n",
    "        #hidden = [num layers * num directions, batch size, hid dim]\n",
    "        #cell = [num layers * num directions, batch size, hid dim]\n",
    "        \n",
    "        #concat the final forward (hidden[-2,:,:]) and backward (hidden[-1,:,:]) hidden layers\n",
    "        #and apply dropout\n",
    "        \n",
    "        hidden = self.dropout(torch.cat((hidden[-2,:,:], hidden[-1,:,:]), dim = 1))\n",
    "                \n",
    "        #hidden = [batch size, hid dim * num directions]\n",
    "            \n",
    "        return self.fc(hidden)\"\"\""
   ]
  },
  {
   "cell_type": "code",
   "execution_count": 293,
   "metadata": {},
   "outputs": [
    {
     "name": "stdout",
     "output_type": "stream",
     "text": [
      "Input dim is  173\n",
      "output dim 76\n"
     ]
    },
    {
     "data": {
      "text/plain": [
       "'\\nINPUT_DIM = len(TEXT.vocab)\\nEMBEDDING_DIM = 100\\nHIDDEN_DIM = 256\\nOUTPUT_DIM = len(LABEL.vocab)\\nN_LAYERS = 2\\nBIDIRECTIONAL = True\\nDROPOUT = 0.5\\nPAD_IDX = TEXT.vocab.stoi[TEXT.pad_token]\\n\\nmodel = RNN(INPUT_DIM, \\n            EMBEDDING_DIM, \\n            HIDDEN_DIM, \\n            OUTPUT_DIM, \\n            N_LAYERS, \\n            BIDIRECTIONAL, \\n            DROPOUT, \\n            PAD_IDX)'"
      ]
     },
     "execution_count": 293,
     "metadata": {},
     "output_type": "execute_result"
    }
   ],
   "source": [
    "INPUT_DIM = len(TEXT.vocab)\n",
    "print(\"Input dim is \", INPUT_DIM)\n",
    "EMBEDDING_DIM = 100\n",
    "N_FILTERS = 100\n",
    "FILTER_SIZES = [3, 4, 5]\n",
    "OUTPUT_DIM = len(LABEL.vocab)\n",
    "print(\"output dim\", len(LABEL.vocab))\n",
    "DROPOUT = 0.5\n",
    "PAD_IDX = TEXT.vocab.stoi[TEXT.pad_token]\n",
    "\n",
    "model = CNN(INPUT_DIM, EMBEDDING_DIM, N_FILTERS, FILTER_SIZES, OUTPUT_DIM, DROPOUT, PAD_IDX)\n",
    "\n",
    "\n",
    "\n",
    "\n",
    "###################\n",
    "\"\"\"\n",
    "INPUT_DIM = len(TEXT.vocab)\n",
    "EMBEDDING_DIM = 100\n",
    "HIDDEN_DIM = 256\n",
    "OUTPUT_DIM = len(LABEL.vocab)\n",
    "N_LAYERS = 2\n",
    "BIDIRECTIONAL = True\n",
    "DROPOUT = 0.5\n",
    "PAD_IDX = TEXT.vocab.stoi[TEXT.pad_token]\n",
    "\n",
    "model = RNN(INPUT_DIM, \n",
    "            EMBEDDING_DIM, \n",
    "            HIDDEN_DIM, \n",
    "            OUTPUT_DIM, \n",
    "            N_LAYERS, \n",
    "            BIDIRECTIONAL, \n",
    "            DROPOUT, \n",
    "            PAD_IDX)\"\"\""
   ]
  },
  {
   "cell_type": "code",
   "execution_count": 294,
   "metadata": {},
   "outputs": [
    {
     "name": "stdout",
     "output_type": "stream",
     "text": [
      "The model has 160,476 trainable parameters\n"
     ]
    }
   ],
   "source": [
    "def count_parameters(model):\n",
    "    return sum(p.numel() for p in model.parameters() if p.requires_grad)\n",
    "\n",
    "print(f'The model has {count_parameters(model):,} trainable parameters')"
   ]
  },
  {
   "cell_type": "code",
   "execution_count": 295,
   "metadata": {},
   "outputs": [
    {
     "data": {
      "text/plain": [
       "tensor([[ 0.0000e+00,  0.0000e+00,  0.0000e+00,  ...,  0.0000e+00,\n",
       "          0.0000e+00,  0.0000e+00],\n",
       "        [ 0.0000e+00,  0.0000e+00,  0.0000e+00,  ...,  0.0000e+00,\n",
       "          0.0000e+00,  0.0000e+00],\n",
       "        [ 4.5583e-01, -2.3298e+00, -2.5914e-01,  ..., -1.0138e+00,\n",
       "         -2.1153e+00, -1.0080e+00],\n",
       "        ...,\n",
       "        [-1.0631e-01,  1.3839e-01,  3.5266e-01,  ..., -2.4520e-02,\n",
       "          7.9239e-02,  2.3303e-01],\n",
       "        [-1.9469e-03,  3.9018e-02,  1.9094e-02,  ..., -1.8238e-02,\n",
       "         -4.2565e-02, -5.4865e-03],\n",
       "        [ 7.9155e-01, -1.6432e+00,  8.4849e-01,  ...,  1.0396e+00,\n",
       "         -5.8439e-01, -3.2546e-01]])"
      ]
     },
     "execution_count": 295,
     "metadata": {},
     "output_type": "execute_result"
    }
   ],
   "source": [
    "pretrained_embeddings = TEXT.vocab.vectors\n",
    "\n",
    "model.embedding.weight.data.copy_(pretrained_embeddings)"
   ]
  },
  {
   "cell_type": "code",
   "execution_count": 296,
   "metadata": {},
   "outputs": [],
   "source": [
    "UNK_IDX = TEXT.vocab.stoi[TEXT.unk_token]\n",
    "\n",
    "model.embedding.weight.data[UNK_IDX] = torch.zeros(EMBEDDING_DIM)\n",
    "model.embedding.weight.data[PAD_IDX] = torch.zeros(EMBEDDING_DIM)"
   ]
  },
  {
   "cell_type": "code",
   "execution_count": 297,
   "metadata": {},
   "outputs": [],
   "source": [
    "import torch.optim as optim\n",
    "\n",
    "optimizer = optim.Adam(model.parameters(), lr = 0.0005)\n",
    "\n",
    "criterion = nn.CrossEntropyLoss()\n",
    "#criterion = nn.CosineSimilarity()\n",
    "#this line added newly\n",
    "#criterion = nn.HingeEmbeddingLoss()\n",
    "model = model.to(device)\n",
    "criterion = criterion.to(device)"
   ]
  },
  {
   "cell_type": "code",
   "execution_count": 298,
   "metadata": {},
   "outputs": [],
   "source": [
    "\n",
    "    \n",
    "    \n",
    "def categorical_accuracy(preds, y):\n",
    "    \"\"\"\n",
    "    Returns accuracy per batch, i.e. if you get 8/10 right, this returns 0.8, NOT 8\n",
    "    \"\"\"\n",
    "    max_preds = preds.argmax(dim = 1, keepdim = True) # get the index of the max probability\n",
    "    correct = max_preds.squeeze(1).eq(y)\n",
    "    return correct.sum() / torch.FloatTensor([y.shape[0]])"
   ]
  },
  {
   "cell_type": "code",
   "execution_count": 299,
   "metadata": {},
   "outputs": [],
   "source": [
    "def train(model, iterator, optimizer, criterion):\n",
    "    \n",
    "    epoch_loss = 0\n",
    "    epoch_acc = 0\n",
    "    \n",
    "    model.train()\n",
    "    #print(\"len of iterator in train\", len(iterator))\n",
    "    for batch in iterator:\n",
    "        \n",
    "        optimizer.zero_grad()\n",
    "\n",
    "        predictions = model(batch.text)\n",
    "        \n",
    "        loss = criterion(predictions, batch.labels)\n",
    "                    \n",
    "        acc = categorical_accuracy(predictions, batch.labels)\n",
    "        \n",
    "        loss.backward()\n",
    "        \n",
    "        optimizer.step()\n",
    "        \n",
    "        epoch_loss += loss.item()\n",
    "        epoch_acc += acc.item()\n",
    "        \n",
    "    return epoch_loss / len(iterator), epoch_acc / len(iterator)\n",
    "\n",
    "\n"
   ]
  },
  {
   "cell_type": "code",
   "execution_count": 300,
   "metadata": {},
   "outputs": [],
   "source": [
    "def evaluate(model, iterator, criterion):\n",
    "    \n",
    "    epoch_loss = 0\n",
    "    epoch_acc = 0\n",
    "    \n",
    "    model.eval()\n",
    "    \n",
    "    with torch.no_grad():\n",
    "        #print(\"len of iterator\", len(iterator))\n",
    "        for batch in iterator:\n",
    "            try:\n",
    "                #print(\"text \", batch.text.stoi, \"label \", batch.labels)\n",
    "                \n",
    "                predictions = model(batch.text)\n",
    "\n",
    "                loss = criterion(predictions, batch.labels)\n",
    "\n",
    "                acc = categorical_accuracy(predictions, batch.labels)\n",
    "\n",
    "                epoch_loss += loss.item()\n",
    "                epoch_acc += acc.item()\n",
    "            except Exception as e:\n",
    "                print(\"found exception\")\n",
    "\n",
    "\n",
    "    \n",
    "    return epoch_loss / len(iterator), epoch_acc / len(iterator)"
   ]
  },
  {
   "cell_type": "code",
   "execution_count": 301,
   "metadata": {},
   "outputs": [],
   "source": [
    "import time\n",
    "\n",
    "def epoch_time(start_time, end_time):\n",
    "    elapsed_time = end_time - start_time\n",
    "    elapsed_mins = int(elapsed_time / 60)\n",
    "    elapsed_secs = int(elapsed_time - (elapsed_mins * 60))\n",
    "    return elapsed_mins, elapsed_secs"
   ]
  },
  {
   "cell_type": "code",
   "execution_count": 302,
   "metadata": {
    "scrolled": true
   },
   "outputs": [
    {
     "name": "stdout",
     "output_type": "stream",
     "text": [
      "Epoch: 01 | Epoch Time: 0m 0s\n",
      "\tTrain Loss: 4.494 | Train Acc: 5.15%\n",
      "Epoch: 02 | Epoch Time: 0m 0s\n",
      "\tTrain Loss: 3.745 | Train Acc: 14.71%\n",
      "Epoch: 03 | Epoch Time: 0m 0s\n",
      "\tTrain Loss: 3.332 | Train Acc: 23.53%\n",
      "Epoch: 04 | Epoch Time: 0m 0s\n",
      "\tTrain Loss: 3.084 | Train Acc: 25.74%\n",
      "Epoch: 05 | Epoch Time: 0m 0s\n",
      "\tTrain Loss: 2.821 | Train Acc: 33.82%\n",
      "Epoch: 06 | Epoch Time: 0m 0s\n",
      "\tTrain Loss: 2.507 | Train Acc: 45.59%\n",
      "Epoch: 07 | Epoch Time: 0m 0s\n",
      "\tTrain Loss: 2.331 | Train Acc: 41.91%\n",
      "Epoch: 08 | Epoch Time: 0m 0s\n",
      "\tTrain Loss: 2.065 | Train Acc: 48.53%\n",
      "Epoch: 09 | Epoch Time: 0m 0s\n",
      "\tTrain Loss: 1.963 | Train Acc: 52.94%\n",
      "Epoch: 10 | Epoch Time: 0m 0s\n",
      "\tTrain Loss: 1.743 | Train Acc: 60.29%\n",
      "Epoch: 11 | Epoch Time: 0m 0s\n",
      "\tTrain Loss: 1.552 | Train Acc: 59.56%\n",
      "Epoch: 12 | Epoch Time: 0m 0s\n",
      "\tTrain Loss: 1.520 | Train Acc: 56.62%\n",
      "Epoch: 13 | Epoch Time: 0m 0s\n",
      "\tTrain Loss: 1.401 | Train Acc: 59.56%\n",
      "Epoch: 14 | Epoch Time: 0m 0s\n",
      "\tTrain Loss: 1.330 | Train Acc: 61.76%\n",
      "Epoch: 15 | Epoch Time: 0m 0s\n",
      "\tTrain Loss: 1.203 | Train Acc: 63.24%\n",
      "Epoch: 16 | Epoch Time: 0m 0s\n",
      "\tTrain Loss: 1.156 | Train Acc: 64.71%\n",
      "Epoch: 17 | Epoch Time: 0m 0s\n",
      "\tTrain Loss: 1.216 | Train Acc: 58.82%\n",
      "Epoch: 18 | Epoch Time: 0m 0s\n",
      "\tTrain Loss: 1.083 | Train Acc: 63.97%\n",
      "Epoch: 19 | Epoch Time: 0m 0s\n",
      "\tTrain Loss: 1.157 | Train Acc: 61.03%\n",
      "Epoch: 20 | Epoch Time: 0m 0s\n",
      "\tTrain Loss: 1.095 | Train Acc: 56.62%\n",
      "Epoch: 21 | Epoch Time: 0m 0s\n",
      "\tTrain Loss: 1.072 | Train Acc: 58.09%\n",
      "Epoch: 22 | Epoch Time: 0m 0s\n",
      "\tTrain Loss: 1.085 | Train Acc: 58.82%\n",
      "Epoch: 23 | Epoch Time: 0m 0s\n",
      "\tTrain Loss: 0.970 | Train Acc: 61.03%\n",
      "Epoch: 24 | Epoch Time: 0m 0s\n",
      "\tTrain Loss: 0.949 | Train Acc: 63.97%\n",
      "Epoch: 25 | Epoch Time: 0m 0s\n",
      "\tTrain Loss: 0.967 | Train Acc: 61.03%\n",
      "Epoch: 26 | Epoch Time: 0m 0s\n",
      "\tTrain Loss: 0.976 | Train Acc: 62.50%\n",
      "Epoch: 27 | Epoch Time: 0m 0s\n",
      "\tTrain Loss: 0.920 | Train Acc: 63.97%\n",
      "Epoch: 28 | Epoch Time: 0m 0s\n",
      "\tTrain Loss: 0.956 | Train Acc: 67.65%\n",
      "Epoch: 29 | Epoch Time: 0m 0s\n",
      "\tTrain Loss: 0.812 | Train Acc: 68.38%\n",
      "Epoch: 30 | Epoch Time: 0m 0s\n",
      "\tTrain Loss: 0.911 | Train Acc: 63.24%\n",
      "Epoch: 31 | Epoch Time: 0m 0s\n",
      "\tTrain Loss: 0.842 | Train Acc: 68.38%\n",
      "Epoch: 32 | Epoch Time: 0m 0s\n",
      "\tTrain Loss: 0.848 | Train Acc: 69.85%\n",
      "Epoch: 33 | Epoch Time: 0m 0s\n",
      "\tTrain Loss: 0.902 | Train Acc: 61.76%\n",
      "Epoch: 34 | Epoch Time: 0m 0s\n",
      "\tTrain Loss: 0.855 | Train Acc: 63.97%\n",
      "Epoch: 35 | Epoch Time: 0m 0s\n",
      "\tTrain Loss: 0.825 | Train Acc: 64.71%\n",
      "Epoch: 36 | Epoch Time: 0m 0s\n",
      "\tTrain Loss: 0.802 | Train Acc: 63.97%\n",
      "Epoch: 37 | Epoch Time: 0m 0s\n",
      "\tTrain Loss: 0.819 | Train Acc: 68.38%\n",
      "Epoch: 38 | Epoch Time: 0m 0s\n",
      "\tTrain Loss: 0.879 | Train Acc: 63.97%\n",
      "Epoch: 39 | Epoch Time: 0m 0s\n",
      "\tTrain Loss: 0.833 | Train Acc: 63.24%\n",
      "Epoch: 40 | Epoch Time: 0m 0s\n",
      "\tTrain Loss: 0.858 | Train Acc: 65.44%\n",
      "Epoch: 41 | Epoch Time: 0m 0s\n",
      "\tTrain Loss: 0.771 | Train Acc: 63.97%\n",
      "Epoch: 42 | Epoch Time: 0m 0s\n",
      "\tTrain Loss: 0.816 | Train Acc: 61.03%\n",
      "Epoch: 43 | Epoch Time: 0m 0s\n",
      "\tTrain Loss: 0.758 | Train Acc: 67.65%\n",
      "Epoch: 44 | Epoch Time: 0m 0s\n",
      "\tTrain Loss: 0.872 | Train Acc: 63.24%\n",
      "Epoch: 45 | Epoch Time: 0m 0s\n",
      "\tTrain Loss: 0.822 | Train Acc: 63.24%\n",
      "Epoch: 46 | Epoch Time: 0m 0s\n",
      "\tTrain Loss: 0.756 | Train Acc: 67.65%\n",
      "Epoch: 47 | Epoch Time: 0m 0s\n",
      "\tTrain Loss: 0.849 | Train Acc: 61.03%\n",
      "Epoch: 48 | Epoch Time: 0m 0s\n",
      "\tTrain Loss: 0.790 | Train Acc: 63.97%\n",
      "Epoch: 49 | Epoch Time: 0m 0s\n",
      "\tTrain Loss: 0.740 | Train Acc: 69.12%\n",
      "Epoch: 50 | Epoch Time: 0m 0s\n",
      "\tTrain Loss: 0.744 | Train Acc: 68.38%\n",
      "Epoch: 51 | Epoch Time: 0m 0s\n",
      "\tTrain Loss: 0.721 | Train Acc: 66.18%\n",
      "Epoch: 52 | Epoch Time: 0m 0s\n",
      "\tTrain Loss: 0.741 | Train Acc: 69.12%\n",
      "Epoch: 53 | Epoch Time: 0m 0s\n",
      "\tTrain Loss: 0.793 | Train Acc: 66.91%\n",
      "Epoch: 54 | Epoch Time: 0m 0s\n",
      "\tTrain Loss: 0.747 | Train Acc: 67.65%\n",
      "Epoch: 55 | Epoch Time: 0m 0s\n",
      "\tTrain Loss: 0.668 | Train Acc: 69.85%\n",
      "Epoch: 56 | Epoch Time: 0m 0s\n",
      "\tTrain Loss: 0.760 | Train Acc: 66.91%\n",
      "Epoch: 57 | Epoch Time: 0m 0s\n",
      "\tTrain Loss: 0.758 | Train Acc: 66.91%\n",
      "Epoch: 58 | Epoch Time: 0m 0s\n",
      "\tTrain Loss: 0.790 | Train Acc: 62.50%\n",
      "Epoch: 59 | Epoch Time: 0m 0s\n",
      "\tTrain Loss: 0.787 | Train Acc: 62.50%\n",
      "Epoch: 60 | Epoch Time: 0m 0s\n",
      "\tTrain Loss: 0.721 | Train Acc: 65.44%\n",
      "Epoch: 61 | Epoch Time: 0m 0s\n",
      "\tTrain Loss: 0.722 | Train Acc: 66.18%\n",
      "Epoch: 62 | Epoch Time: 0m 0s\n",
      "\tTrain Loss: 0.672 | Train Acc: 67.65%\n",
      "Epoch: 63 | Epoch Time: 0m 0s\n",
      "\tTrain Loss: 0.686 | Train Acc: 66.18%\n",
      "Epoch: 64 | Epoch Time: 0m 0s\n",
      "\tTrain Loss: 0.696 | Train Acc: 69.85%\n",
      "Epoch: 65 | Epoch Time: 0m 0s\n",
      "\tTrain Loss: 0.707 | Train Acc: 69.12%\n",
      "Epoch: 66 | Epoch Time: 0m 0s\n",
      "\tTrain Loss: 0.759 | Train Acc: 63.97%\n",
      "Epoch: 67 | Epoch Time: 0m 0s\n",
      "\tTrain Loss: 0.722 | Train Acc: 69.85%\n",
      "Epoch: 68 | Epoch Time: 0m 0s\n",
      "\tTrain Loss: 0.821 | Train Acc: 63.97%\n",
      "Epoch: 69 | Epoch Time: 0m 0s\n",
      "\tTrain Loss: 0.709 | Train Acc: 66.91%\n",
      "Epoch: 70 | Epoch Time: 0m 0s\n",
      "\tTrain Loss: 0.691 | Train Acc: 66.91%\n",
      "Epoch: 71 | Epoch Time: 0m 0s\n",
      "\tTrain Loss: 0.760 | Train Acc: 61.03%\n",
      "Epoch: 72 | Epoch Time: 0m 0s\n",
      "\tTrain Loss: 0.771 | Train Acc: 63.24%\n",
      "Epoch: 73 | Epoch Time: 0m 0s\n",
      "\tTrain Loss: 0.614 | Train Acc: 67.65%\n",
      "Epoch: 74 | Epoch Time: 0m 0s\n",
      "\tTrain Loss: 0.687 | Train Acc: 68.38%\n",
      "Epoch: 75 | Epoch Time: 0m 0s\n",
      "\tTrain Loss: 0.673 | Train Acc: 68.38%\n",
      "Epoch: 76 | Epoch Time: 0m 0s\n",
      "\tTrain Loss: 0.629 | Train Acc: 71.32%\n",
      "Epoch: 77 | Epoch Time: 0m 0s\n",
      "\tTrain Loss: 0.601 | Train Acc: 72.06%\n",
      "Epoch: 78 | Epoch Time: 0m 0s\n",
      "\tTrain Loss: 0.702 | Train Acc: 66.18%\n",
      "Epoch: 79 | Epoch Time: 0m 0s\n",
      "\tTrain Loss: 0.636 | Train Acc: 71.32%\n",
      "Epoch: 80 | Epoch Time: 0m 0s\n",
      "\tTrain Loss: 0.649 | Train Acc: 72.06%\n"
     ]
    }
   ],
   "source": [
    "N_EPOCHS = 80\n",
    "\n",
    "best_valid_loss = float('inf')\n",
    "\n",
    "for epoch in range(N_EPOCHS):\n",
    "\n",
    "    start_time = time.time()\n",
    "    #print(\"before train...1\")\n",
    "    \n",
    "    train_loss, train_acc = train(model, train_iterator, optimizer, criterion)\n",
    "    #print(\"train done\")\n",
    "    valid_loss, valid_acc = evaluate(model, valid_iterator, criterion)\n",
    "    \n",
    "    end_time = time.time()\n",
    "\n",
    "    epoch_mins, epoch_secs = epoch_time(start_time, end_time)\n",
    "        \n",
    "    if valid_loss < best_valid_loss:\n",
    "        best_valid_loss = valid_loss\n",
    "        torch.save(model.state_dict(), 'tut5-model.pt')\n",
    "    \n",
    "    print(f'Epoch: {epoch+1:02} | Epoch Time: {epoch_mins}m {epoch_secs}s')\n",
    "    print(f'\\tTrain Loss: {train_loss:.3f} | Train Acc: {train_acc*100:.2f}%')\n",
    "    #print(f'\\t Val. Loss: {valid_loss:.3f} |  Val. Acc: {valid_acc*100:.2f}%')"
   ]
  },
  {
   "cell_type": "code",
   "execution_count": 306,
   "metadata": {},
   "outputs": [
    {
     "name": "stdout",
     "output_type": "stream",
     "text": [
      "Test Loss: 3.090 | Test Acc: 35.94%\n"
     ]
    }
   ],
   "source": [
    "model.load_state_dict(torch.load('tut5-model.pt'))\n",
    "\n",
    "test_loss, test_acc = evaluate(model, valid_iterator, criterion)\n",
    "\n",
    "print(f'Test Loss: {test_loss:.3f} | Test Acc: {test_acc*100:.2f}%')"
   ]
  },
  {
   "cell_type": "code",
   "execution_count": 259,
   "metadata": {},
   "outputs": [],
   "source": [
    "import spacy\n",
    "nlp = spacy.load('en')\n",
    "\n",
    "def predict_class(model, sentence, min_len = 4):\n",
    "    model.eval()\n",
    "    tokenized = [tok.text for tok in nlp.tokenizer(sentence)]\n",
    "    if len(tokenized) < min_len:\n",
    "        tokenized += ['<pad>'] * (min_len - len(tokenized))\n",
    "    indexed = [TEXT.vocab.stoi[t] for t in tokenized]\n",
    "    tensor = torch.LongTensor(indexed).to(device)\n",
    "    tensor = tensor.unsqueeze(1)\n",
    "    preds = model(tensor)\n",
    "    max_preds = preds.argmax(dim = 1)\n",
    "    return max_preds.item()"
   ]
  },
  {
   "cell_type": "code",
   "execution_count": 349,
   "metadata": {},
   "outputs": [
    {
     "name": "stdout",
     "output_type": "stream",
     "text": [
      "Predicted class is: 7 = location tags\n"
     ]
    }
   ],
   "source": [
    "pred_class = predict_class(model, removeCamelCase(\"android telephony Telephony Manager get Device Id\"))\n",
    "print(f'Predicted class is: {pred_class} = {LABEL.vocab.itos[pred_class]}')"
   ]
  },
  {
   "cell_type": "code",
   "execution_count": 59,
   "metadata": {},
   "outputs": [
    {
     "name": "stdout",
     "output_type": "stream",
     "text": [
      "Predicted class is: 0 = defaultdict(None, {'network measurements': 0, 'bluetooth settings': 1, 'location': 2, 'telecommunications carrier information': 3, 'wi-fi access point information': 4, 'carrier network': 5, 'installed applications': 6, 'location tags': 7, 'operating system information': 8, 'cell towers': 9, 'gps information': 10, 'network protocol': 11, 'network type': 12, 'url': 13, 'device characteristics': 14, 'files': 15, 'mobile device language setting': 16, 'country': 17, 'device id': 18, 'gps': 19, 'mcc': 20, 'phone number': 21, 'sensors': 22, 'user information': 23, 'wifi signal strength': 24, 'zip code': 25, 'application software': 26, 'browser type': 27, 'chat text': 28, 'contacts': 29, 'domain servers': 30, 'ip address': 31, 'longitude': 32, 'network information': 33, 'sms messages': 34, 'text messages': 35, 'unique application number': 36, 'unique device id': 37, 'user content': 38, 'address book': 39, 'application information': 40, 'application version number': 41, 'area code': 42, 'browser language': 43, 'calendar entries': 44, 'chat histories': 45, 'cookies': 46, 'data': 47, 'device capability': 48, 'device information': 49, 'device name': 50, 'devices hardware': 51, 'hardware device id': 52, 'hardware information': 53, 'hardware settings': 54, 'high-level geographic information': 55, 'imei': 56, 'latitude': 57, 'location information': 58, 'mobile device id': 59, 'mobile device type': 60, 'mobile phone model': 61, 'mobile service carrier name': 62, 'peripherals': 63, 'postal code': 64, 'preferred language': 65, 'real-time location-based information': 66, 'referral url': 67, 'service usage details': 68, 'specifc location data': 69, 'specific geolocation': 70, 'time': 71, 'time zone': 72, 'udid': 73, 'users internet protocol': 74, 'wi-fi access points': 75})\n"
     ]
    }
   ],
   "source": [
    "print(f'Predicted class is: {pred_class} = {LABEL.vocab.stoi}')"
   ]
  },
  {
   "cell_type": "code",
   "execution_count": null,
   "metadata": {},
   "outputs": [],
   "source": []
  },
  {
   "cell_type": "code",
   "execution_count": null,
   "metadata": {},
   "outputs": [],
   "source": []
  },
  {
   "cell_type": "code",
   "execution_count": null,
   "metadata": {},
   "outputs": [],
   "source": []
  }
 ],
 "metadata": {
  "kernelspec": {
   "display_name": "Python 3",
   "language": "python",
   "name": "python3"
  },
  "language_info": {
   "codemirror_mode": {
    "name": "ipython",
    "version": 3
   },
   "file_extension": ".py",
   "mimetype": "text/x-python",
   "name": "python",
   "nbconvert_exporter": "python",
   "pygments_lexer": "ipython3",
   "version": "3.7.3"
  }
 },
 "nbformat": 4,
 "nbformat_minor": 4
}
