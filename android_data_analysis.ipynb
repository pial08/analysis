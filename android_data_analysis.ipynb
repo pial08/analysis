{
 "cells": [
  {
   "cell_type": "code",
   "execution_count": 381,
   "metadata": {},
   "outputs": [
    {
     "name": "stdout",
     "output_type": "stream",
     "text": [
      "CNN(\n",
      "  (embedding): Embedding(173, 100)\n",
      "  (convs): ModuleList(\n",
      "    (0): Conv2d(1, 100, kernel_size=(3, 100), stride=(1, 1))\n",
      "    (1): Conv2d(1, 100, kernel_size=(4, 100), stride=(1, 1))\n",
      "    (2): Conv2d(1, 100, kernel_size=(5, 100), stride=(1, 1))\n",
      "  )\n",
      "  (fc): Linear(in_features=300, out_features=76, bias=True)\n",
      "  (dropout): Dropout(p=0.5, inplace=False)\n",
      ")\n"
     ]
    }
   ],
   "source": [
    "from gensim.models import Word2Vec\n",
    "# define training data\n",
    "sentences = [['this', 'is', 'the', 'first', 'sentence', 'for', 'word2vec'],\n",
    "['this', 'is', 'the', 'second', 'sentence'],\n",
    "['yet', 'another', 'sentence'],\n",
    "['one', 'more', 'sentence'],\n",
    "['and', 'the', 'final', 'sentence']]\n",
    "# train model\n",
    "w2v = Word2Vec(sentences, min_count=1)\n",
    "# summarize the loaded model\n",
    "print(model)\n",
    "# summarize vocabulary\n"
   ]
  },
  {
   "cell_type": "code",
   "execution_count": 382,
   "metadata": {},
   "outputs": [],
   "source": [
    "#new Ideas\n",
    "\"\"\"\n",
    "convert all to lower case\n",
    "use word embeddings?\n",
    "word2vec using network related words...\n",
    "use android documentation for embeddings\n",
    "\"\"\"\n",
    "\n",
    "def splitClassNames(cls):\n",
    "    cls = cls.replace(\".\", \" \")\n",
    "    #print(cls)\n",
    "    return cls"
   ]
  },
  {
   "cell_type": "code",
   "execution_count": 383,
   "metadata": {},
   "outputs": [],
   "source": [
    "import re\n",
    "\n",
    "def removeCamelCase(token):\n",
    "    splitted = re.sub('([A-Z][a-z]+)', r' \\1', re.sub('([A-Z]+)', r' \\1', token)).split()\n",
    "    #print(splitted)\n",
    "    finalStr = \"\"\n",
    "    for splt in splitted:\n",
    "        finalStr += splt + \" \"\n",
    "    return finalStr\n",
    "\n"
   ]
  },
  {
   "cell_type": "code",
   "execution_count": 384,
   "metadata": {},
   "outputs": [],
   "source": [
    "def createSyntheticData(df):\n",
    "    counter = 40\n",
    "    for index, row in df.iterrows():\n",
    "        counter = 40\n",
    "        while True:\n",
    "            #print(\"inside while loop\")\n",
    "            if counter == 0:\n",
    "                break\n",
    "            df.append(row)\n",
    "            counter -= 1\n",
    "    return df        "
   ]
  },
  {
   "cell_type": "code",
   "execution_count": 402,
   "metadata": {},
   "outputs": [
    {
     "name": "stdout",
     "output_type": "stream",
     "text": [
      "194\n",
      "194\n",
      "saving data to file...\n",
      "saved\n"
     ]
    }
   ],
   "source": [
    "import pandas as pd\n",
    "from sklearn.model_selection import train_test_split\n",
    "\n",
    "df = pd.read_csv(\"data/mappings_cleaned.csv\")\n",
    "\n",
    "print(len(df.index))\n",
    "\n",
    "\n",
    "for index, row in df.iterrows():\n",
    "    #print(getattr(row, \"text\"))\n",
    "    row[\"text\"] = splitClassNames(row[\"text\"])\n",
    "    row[\"text\"] = removeCamelCase(row[\"text\"])\n",
    "\n",
    "    row[\"text\"] = row[\"text\"].strip()\n",
    "    #print(row[\"text\"])\n",
    "\n",
    "#df = pd.concat([df]*40, ignore_index=True)\n",
    "\n",
    "df.to_csv(\"data/cleaned.csv\", index = False)\n",
    "\n",
    "print(len(df.index))\n",
    "\n",
    "train, test = train_test_split(df, test_size=0.2)\n",
    "\n",
    "print(\"saving data to file...\")\n",
    "train.to_csv(\"data/train.csv\", index = False)\n",
    "test.to_csv(\"data/test.csv\", index = False)\n",
    "print(\"saved\")\n",
    "\n"
   ]
  },
  {
   "cell_type": "code",
   "execution_count": null,
   "metadata": {},
   "outputs": [],
   "source": []
  },
  {
   "cell_type": "code",
   "execution_count": 403,
   "metadata": {},
   "outputs": [
    {
     "name": "stdout",
     "output_type": "stream",
     "text": [
      "{'location tags': 6, 'gps information': 5, 'address book': 1, 'application information': 1, 'application software': 2, 'application version number': 1, 'area code': 1, 'bluetooth settings': 8, 'browser language': 1, 'browser type': 2, 'calendar entries': 1, 'carrier network': 7, 'cell towers': 5, 'chat histories': 1, 'chat text': 2, 'contacts': 2, 'cookies': 1, 'country': 3, 'data': 1, 'device capability': 1, 'device characteristics': 4, 'device id': 3, 'device information': 1, 'device name': 1, 'devices hardware': 1, 'domain servers': 2, 'files': 4, 'gps': 3, 'hardware device id': 1, 'hardware information': 1, 'hardware settings': 1, 'high-level geographic information': 1, 'imei': 1, 'installed applications': 6, 'ip address': 2, 'latitude': 1, 'location': 8, 'location information': 1, 'longitude': 2, 'mcc': 3, 'mobile device id': 1, 'mobile device language setting': 4, 'mobile device type': 1, 'mobile phone model': 1, 'mobile service carrier name': 1, 'network information': 2, 'network measurements': 10, 'network protocol': 5, 'network type': 5, 'operating system information': 6, 'peripherals': 1, 'phone number': 3, 'postal code': 1, 'preferred language': 1, 'real-time location-based information': 1, 'referral url': 1, 'sensors': 3, 'service usage details': 1, 'sms messages': 2, 'specifc location data': 1, 'specific geolocation': 1, 'telecommunications carrier information': 8, 'text messages': 2, 'time': 1, 'time zone': 1, 'udid': 1, 'unique application number': 2, 'unique device id': 2, 'url': 5, 'user content': 2, 'user information': 3, 'users internet protocol': 1, 'wi-fi access point information': 8, 'wi-fi access points': 1, 'wifi signal strength': 3, 'zip code': 3}\n"
     ]
    },
    {
     "data": {
      "image/png": "[encoded data removed]",
      "text/plain": [
       "<Figure size 432x288 with 1 Axes>"
      ]
     },
     "metadata": {
      "needs_background": "light"
     },
     "output_type": "display_data"
    }
   ],
   "source": [
    "#stat for the data\n",
    "\n",
    "import matplotlib.pyplot as plt\n",
    "\n",
    "dict = {}\n",
    "df.head(10) \n",
    "for index, row in df.iterrows():\n",
    "    if row[\"labels\"] in dict :\n",
    "        #print(\"inside if\")\n",
    "        dict[row[\"labels\"]] += 1\n",
    "    else:\n",
    "        #print(\"inside else\")\n",
    "        dict[row[\"labels\"]] = 1\n",
    "    \n",
    "print(dict)\n",
    "\n",
    "\n",
    "plt.bar(range(len(dict)), list(dict.values()), align='center')\n",
    "#plt.xticks(range(len(dict)), list(dict.keys()))\n",
    "plt.show()"
   ]
  },
  {
   "cell_type": "code",
   "execution_count": 387,
   "metadata": {},
   "outputs": [
    {
     "name": "stdout",
     "output_type": "stream",
     "text": [
      "{'text': ['android', 'location', 'location', 'get', 'altitude'], 'labels': 'gps information'}\n"
     ]
    }
   ],
   "source": [
    "import torch\n",
    "from torchtext import data\n",
    "from torchtext import datasets\n",
    "import random\n",
    "import numpy as np\n",
    "\n",
    "TEXT = data.Field(tokenize = 'spacy', lower=True)\n",
    "LABEL = data.LabelField()\n",
    "\n",
    "fields=[('text', TEXT), ('labels', LABEL)]\n",
    "train_data, test_data= data.TabularDataset.splits(\n",
    "                                        path = 'data',\n",
    "                                        train = 'cleaned.csv',\n",
    "                                        test = 'test.csv',\n",
    "                                        #validation = 'valid.csv',\n",
    "                                        format = 'csv',\n",
    "                                        fields = fields,\n",
    "                                        skip_header = True\n",
    ")\n",
    "\n",
    "print(train_data[1].__dict__)\n"
   ]
  },
  {
   "cell_type": "code",
   "execution_count": 388,
   "metadata": {},
   "outputs": [
    {
     "name": "stdout",
     "output_type": "stream",
     "text": [
      "1552\n",
      "location tags\n",
      "<class 'torch.Tensor'>\n",
      "defaultdict(None, {'network measurements': 0, 'bluetooth settings': 1, 'location': 2, 'telecommunications carrier information': 3, 'wi-fi access point information': 4, 'carrier network': 5, 'installed applications': 6, 'location tags': 7, 'operating system information': 8, 'cell towers': 9, 'gps information': 10, 'network protocol': 11, 'network type': 12, 'url': 13, 'device characteristics': 14, 'files': 15, 'mobile device language setting': 16, 'country': 17, 'device id': 18, 'gps': 19, 'mcc': 20, 'phone number': 21, 'sensors': 22, 'user information': 23, 'wifi signal strength': 24, 'zip code': 25, 'application software': 26, 'browser type': 27, 'chat text': 28, 'contacts': 29, 'domain servers': 30, 'ip address': 31, 'longitude': 32, 'network information': 33, 'sms messages': 34, 'text messages': 35, 'unique application number': 36, 'unique device id': 37, 'user content': 38, 'address book': 39, 'application information': 40, 'application version number': 41, 'area code': 42, 'browser language': 43, 'calendar entries': 44, 'chat histories': 45, 'cookies': 46, 'data': 47, 'device capability': 48, 'device information': 49, 'device name': 50, 'devices hardware': 51, 'hardware device id': 52, 'hardware information': 53, 'hardware settings': 54, 'high-level geographic information': 55, 'imei': 56, 'latitude': 57, 'location information': 58, 'mobile device id': 59, 'mobile device type': 60, 'mobile phone model': 61, 'mobile service carrier name': 62, 'peripherals': 63, 'postal code': 64, 'preferred language': 65, 'real-time location-based information': 66, 'referral url': 67, 'service usage details': 68, 'specifc location data': 69, 'specific geolocation': 70, 'time': 71, 'time zone': 72, 'udid': 73, 'users internet protocol': 74, 'wi-fi access points': 75})\n",
      "len of prev train data 7760\n",
      "len of current train and valid 5432 2328\n",
      "length of valid data network measurements\n",
      "173\n"
     ]
    }
   ],
   "source": [
    "\n",
    "\n",
    "SEED = 1234\n",
    "MAX_VOCAB_SIZE = 25000\n",
    "\n",
    "TEXT.build_vocab(train_data, \n",
    "                 max_size = MAX_VOCAB_SIZE, \n",
    "                 vectors = \"glove.6B.100d\", \n",
    "                 unk_init = torch.Tensor.normal_)\n",
    "\n",
    "LABEL.build_vocab(train_data)\n",
    "print(len(test_data))\n",
    "print(train_data[0].__dict__[\"labels\"])\n",
    "\n",
    "print(type(TEXT.vocab.vectors))\n",
    "print( LABEL.vocab.stoi)\n",
    "\n",
    "print(\"len of prev train data\", len(train_data))\n",
    "\n",
    "train_data, valid_data = train_data.split(random_state = random.seed(SEED))\n",
    "print(\"len of current train and valid\", len(train_data), len(valid_data))\n",
    "print(\"length of valid data\", valid_data[0].__dict__[\"labels\"])\n",
    "\n",
    "print(len(TEXT.vocab))"
   ]
  },
  {
   "cell_type": "code",
   "execution_count": 389,
   "metadata": {},
   "outputs": [
    {
     "name": "stdout",
     "output_type": "stream",
     "text": [
      "device cpu\n",
      "173\n"
     ]
    }
   ],
   "source": [
    "BATCH_SIZE = 64\n",
    "\n",
    "device = torch.device('cuda' if torch.cuda.is_available() else 'cpu')\n",
    "print(\"device\", device)\n",
    "train_iterator, valid_iterator, test_iterator = data.BucketIterator.splits(\n",
    "    (train_data, valid_data, test_data), \n",
    "    batch_size = BATCH_SIZE, \n",
    "    sort_key=lambda x: len(x.text),##new added\n",
    "    device = device)\n",
    "\n",
    "print(len(TEXT.vocab))"
   ]
  },
  {
   "cell_type": "code",
   "execution_count": null,
   "metadata": {},
   "outputs": [],
   "source": []
  },
  {
   "cell_type": "code",
   "execution_count": null,
   "metadata": {},
   "outputs": [],
   "source": []
  },
  {
   "cell_type": "code",
   "execution_count": 390,
   "metadata": {},
   "outputs": [
    {
     "data": {
      "text/plain": [
       "'   \\nclass RNN(nn.Module):\\n    def __init__(self, vocab_size, embedding_dim, hidden_dim, output_dim, n_layers, \\n                 bidirectional, dropout, pad_idx):\\n        \\n        super().__init__()\\n        \\n        self.embedding = nn.Embedding(vocab_size, embedding_dim, padding_idx = pad_idx)\\n        \\n        self.rnn = nn.LSTM(embedding_dim, \\n                           hidden_dim, \\n                           num_layers=n_layers, \\n                           bidirectional=bidirectional, \\n                           dropout=dropout)\\n        \\n        self.fc = nn.Linear(hidden_dim * 2, output_dim)\\n        \\n        self.dropout = nn.Dropout(dropout)\\n        \\n    def forward(self, text, text_lengths):\\n        \\n        #text = [sent len, batch size]\\n        text = text.permute(1, 0)\\n        embedded = self.dropout(self.embedding(text))\\n        \\n        #embedded = [sent len, batch size, emb dim]\\n        \\n        #pack sequence\\n        packed_embedded = nn.utils.rnn.pack_padded_sequence(embedded, text_lengths)\\n        \\n        packed_output, (hidden, cell) = self.rnn(packed_embedded)\\n        \\n        #unpack sequence\\n        output, output_lengths = nn.utils.rnn.pad_packed_sequence(packed_output)\\n\\n        #output = [sent len, batch size, hid dim * num directions]\\n        #output over padding tokens are zero tensors\\n        \\n        #hidden = [num layers * num directions, batch size, hid dim]\\n        #cell = [num layers * num directions, batch size, hid dim]\\n        \\n        #concat the final forward (hidden[-2,:,:]) and backward (hidden[-1,:,:]) hidden layers\\n        #and apply dropout\\n        \\n        hidden = self.dropout(torch.cat((hidden[-2,:,:], hidden[-1,:,:]), dim = 1))\\n                \\n        #hidden = [batch size, hid dim * num directions]\\n            \\n        return self.fc(hidden)'"
      ]
     },
     "execution_count": 390,
     "metadata": {},
     "output_type": "execute_result"
    }
   ],
   "source": [
    "import torch.nn as nn\n",
    "import torch.nn.functional as F\n",
    "\n",
    "class CNN(nn.Module):\n",
    "    def __init__(self, vocab_size, embedding_dim, n_filters, filter_sizes, output_dim, \n",
    "                 dropout, pad_idx):\n",
    "        \n",
    "        super().__init__()\n",
    "        \n",
    "        self.embedding = nn.Embedding(vocab_size, embedding_dim)\n",
    "        \n",
    "        self.convs = nn.ModuleList([\n",
    "                                    nn.Conv2d(in_channels = 1, \n",
    "                                              out_channels = n_filters, \n",
    "                                              kernel_size = (fs, embedding_dim)) \n",
    "                                    for fs in filter_sizes\n",
    "                                    ])\n",
    "        \n",
    "        self.fc = nn.Linear(len(filter_sizes) * n_filters, output_dim)\n",
    "        \n",
    "        self.dropout = nn.Dropout(dropout)\n",
    "        \n",
    "    def forward(self, text):\n",
    "        \n",
    "        #text = [sent len, batch size]\n",
    "        #print(\"shape of text\", text.shape)\n",
    "        text = text.permute(1, 0)\n",
    "        #print(\"shape of text after permute\", text.shape)\n",
    "\n",
    "        #text = [batch size, sent len]\n",
    "        #print(\"cnn...1\")\n",
    "        embedded = self.embedding(text)\n",
    "                \n",
    "        #embedded = [batch size, sent len, emb dim]\n",
    "        #print(\"cnn...2 size of embeded\", embedded.shape)\n",
    "\n",
    "        embedded = embedded.unsqueeze(1)\n",
    "        \n",
    "        #embedded = [batch size, 1, sent len, emb dim]\n",
    "        #print(\"cnn...3\")\n",
    "        conved = [F.relu(conv(embedded)).squeeze(3) for conv in self.convs]\n",
    "            \n",
    "        #conv_n = [batch size, n_filters, sent len - filter_sizes[n]]\n",
    "        #print(\"cnn...4\")\n",
    "        pooled = [F.max_pool1d(conv, conv.shape[2]).squeeze(2) for conv in conved]\n",
    "        \n",
    "        #pooled_n = [batch size, n_filters]\n",
    "        #print(\"cnn...5\")\n",
    "        cat = self.dropout(torch.cat(pooled, dim = 1))\n",
    "\n",
    "        #cat = [batch size, n_filters * len(filter_sizes)]\n",
    "        #print(\"cnn...6\")    \n",
    "        return self.fc(cat)\n",
    "    \n",
    "    \n",
    "\"\"\"   \n",
    "class RNN(nn.Module):\n",
    "    def __init__(self, vocab_size, embedding_dim, hidden_dim, output_dim, n_layers, \n",
    "                 bidirectional, dropout, pad_idx):\n",
    "        \n",
    "        super().__init__()\n",
    "        \n",
    "        self.embedding = nn.Embedding(vocab_size, embedding_dim, padding_idx = pad_idx)\n",
    "        \n",
    "        self.rnn = nn.LSTM(embedding_dim, \n",
    "                           hidden_dim, \n",
    "                           num_layers=n_layers, \n",
    "                           bidirectional=bidirectional, \n",
    "                           dropout=dropout)\n",
    "        \n",
    "        self.fc = nn.Linear(hidden_dim * 2, output_dim)\n",
    "        \n",
    "        self.dropout = nn.Dropout(dropout)\n",
    "        \n",
    "    def forward(self, text, text_lengths):\n",
    "        \n",
    "        #text = [sent len, batch size]\n",
    "        text = text.permute(1, 0)\n",
    "        embedded = self.dropout(self.embedding(text))\n",
    "        \n",
    "        #embedded = [sent len, batch size, emb dim]\n",
    "        \n",
    "        #pack sequence\n",
    "        packed_embedded = nn.utils.rnn.pack_padded_sequence(embedded, text_lengths)\n",
    "        \n",
    "        packed_output, (hidden, cell) = self.rnn(packed_embedded)\n",
    "        \n",
    "        #unpack sequence\n",
    "        output, output_lengths = nn.utils.rnn.pad_packed_sequence(packed_output)\n",
    "\n",
    "        #output = [sent len, batch size, hid dim * num directions]\n",
    "        #output over padding tokens are zero tensors\n",
    "        \n",
    "        #hidden = [num layers * num directions, batch size, hid dim]\n",
    "        #cell = [num layers * num directions, batch size, hid dim]\n",
    "        \n",
    "        #concat the final forward (hidden[-2,:,:]) and backward (hidden[-1,:,:]) hidden layers\n",
    "        #and apply dropout\n",
    "        \n",
    "        hidden = self.dropout(torch.cat((hidden[-2,:,:], hidden[-1,:,:]), dim = 1))\n",
    "                \n",
    "        #hidden = [batch size, hid dim * num directions]\n",
    "            \n",
    "        return self.fc(hidden)\"\"\""
   ]
  },
  {
   "cell_type": "code",
   "execution_count": 391,
   "metadata": {},
   "outputs": [
    {
     "name": "stdout",
     "output_type": "stream",
     "text": [
      "Input dim is  173\n",
      "output dim 76\n"
     ]
    },
    {
     "data": {
      "text/plain": [
       "'\\nINPUT_DIM = len(TEXT.vocab)\\nEMBEDDING_DIM = 100\\nHIDDEN_DIM = 256\\nOUTPUT_DIM = len(LABEL.vocab)\\nN_LAYERS = 2\\nBIDIRECTIONAL = True\\nDROPOUT = 0.5\\nPAD_IDX = TEXT.vocab.stoi[TEXT.pad_token]\\n\\nmodel = RNN(INPUT_DIM, \\n            EMBEDDING_DIM, \\n            HIDDEN_DIM, \\n            OUTPUT_DIM, \\n            N_LAYERS, \\n            BIDIRECTIONAL, \\n            DROPOUT, \\n            PAD_IDX)'"
      ]
     },
     "execution_count": 391,
     "metadata": {},
     "output_type": "execute_result"
    }
   ],
   "source": [
    "INPUT_DIM = len(TEXT.vocab)\n",
    "print(\"Input dim is \", INPUT_DIM)\n",
    "EMBEDDING_DIM = 100\n",
    "N_FILTERS = 100\n",
    "FILTER_SIZES = [3, 4, 5]\n",
    "OUTPUT_DIM = len(LABEL.vocab)\n",
    "print(\"output dim\", len(LABEL.vocab))\n",
    "DROPOUT = 0.5\n",
    "PAD_IDX = TEXT.vocab.stoi[TEXT.pad_token]\n",
    "\n",
    "model = CNN(INPUT_DIM, EMBEDDING_DIM, N_FILTERS, FILTER_SIZES, OUTPUT_DIM, DROPOUT, PAD_IDX)\n",
    "\n",
    "\n",
    "\n",
    "\n",
    "###################\n",
    "\"\"\"\n",
    "INPUT_DIM = len(TEXT.vocab)\n",
    "EMBEDDING_DIM = 100\n",
    "HIDDEN_DIM = 256\n",
    "OUTPUT_DIM = len(LABEL.vocab)\n",
    "N_LAYERS = 2\n",
    "BIDIRECTIONAL = True\n",
    "DROPOUT = 0.5\n",
    "PAD_IDX = TEXT.vocab.stoi[TEXT.pad_token]\n",
    "\n",
    "model = RNN(INPUT_DIM, \n",
    "            EMBEDDING_DIM, \n",
    "            HIDDEN_DIM, \n",
    "            OUTPUT_DIM, \n",
    "            N_LAYERS, \n",
    "            BIDIRECTIONAL, \n",
    "            DROPOUT, \n",
    "            PAD_IDX)\"\"\""
   ]
  },
  {
   "cell_type": "code",
   "execution_count": 392,
   "metadata": {},
   "outputs": [
    {
     "name": "stdout",
     "output_type": "stream",
     "text": [
      "The model has 160,476 trainable parameters\n"
     ]
    }
   ],
   "source": [
    "def count_parameters(model):\n",
    "    return sum(p.numel() for p in model.parameters() if p.requires_grad)\n",
    "\n",
    "print(f'The model has {count_parameters(model):,} trainable parameters')"
   ]
  },
  {
   "cell_type": "code",
   "execution_count": 393,
   "metadata": {},
   "outputs": [
    {
     "data": {
      "text/plain": [
       "tensor([[-1.4331, -0.4926, -0.6067,  ..., -0.3084,  2.8612, -1.0187],\n",
       "        [-0.5537,  1.0984, -1.3618,  ..., -0.7550,  0.6795, -0.8907],\n",
       "        [ 0.1269, -0.2034,  0.6303,  ..., -0.3336,  1.3511,  0.1335],\n",
       "        ...,\n",
       "        [ 0.1690,  0.4703,  0.2707,  ..., -0.2429,  0.1889,  0.1551],\n",
       "        [-0.1491,  0.2022,  0.2954,  ...,  0.3309,  0.8980, -0.2173],\n",
       "        [-0.2689,  0.4596,  0.9803,  ..., -0.2974,  0.9624, -0.3738]])"
      ]
     },
     "execution_count": 393,
     "metadata": {},
     "output_type": "execute_result"
    }
   ],
   "source": [
    "pretrained_embeddings = TEXT.vocab.vectors\n",
    "\n",
    "model.embedding.weight.data.copy_(pretrained_embeddings)"
   ]
  },
  {
   "cell_type": "code",
   "execution_count": 394,
   "metadata": {},
   "outputs": [],
   "source": [
    "UNK_IDX = TEXT.vocab.stoi[TEXT.unk_token]\n",
    "\n",
    "model.embedding.weight.data[UNK_IDX] = torch.zeros(EMBEDDING_DIM)\n",
    "model.embedding.weight.data[PAD_IDX] = torch.zeros(EMBEDDING_DIM)"
   ]
  },
  {
   "cell_type": "code",
   "execution_count": 395,
   "metadata": {},
   "outputs": [],
   "source": [
    "import torch.optim as optim\n",
    "\n",
    "optimizer = optim.Adam(model.parameters(), lr = 0.0001)\n",
    "\n",
    "criterion = nn.CrossEntropyLoss()\n",
    "#criterion = nn.CosineSimilarity()\n",
    "#this line added newly\n",
    "#criterion = nn.HingeEmbeddingLoss()\n",
    "model = model.to(device)\n",
    "criterion = criterion.to(device)"
   ]
  },
  {
   "cell_type": "code",
   "execution_count": 396,
   "metadata": {},
   "outputs": [],
   "source": [
    "\n",
    "    \n",
    "    \n",
    "def categorical_accuracy(preds, y):\n",
    "    \"\"\"\n",
    "    Returns accuracy per batch, i.e. if you get 8/10 right, this returns 0.8, NOT 8\n",
    "    \"\"\"\n",
    "    max_preds = preds.argmax(dim = 1, keepdim = True) # get the index of the max probability\n",
    "    correct = max_preds.squeeze(1).eq(y)\n",
    "    return correct.sum() / torch.FloatTensor([y.shape[0]])"
   ]
  },
  {
   "cell_type": "code",
   "execution_count": 397,
   "metadata": {},
   "outputs": [],
   "source": [
    "def train(model, iterator, optimizer, criterion):\n",
    "    \n",
    "    epoch_loss = 0\n",
    "    epoch_acc = 0\n",
    "    \n",
    "    model.train()\n",
    "    #print(\"len of iterator in train\", len(iterator))\n",
    "    for batch in iterator:\n",
    "        \n",
    "        optimizer.zero_grad()\n",
    "\n",
    "        predictions = model(batch.text)\n",
    "        \n",
    "        loss = criterion(predictions, batch.labels)\n",
    "                    \n",
    "        acc = categorical_accuracy(predictions, batch.labels)\n",
    "        \n",
    "        loss.backward()\n",
    "        \n",
    "        optimizer.step()\n",
    "        \n",
    "        epoch_loss += loss.item()\n",
    "        epoch_acc += acc.item()\n",
    "        \n",
    "    return epoch_loss / len(iterator), epoch_acc / len(iterator)\n",
    "\n",
    "\n"
   ]
  },
  {
   "cell_type": "code",
   "execution_count": 398,
   "metadata": {},
   "outputs": [],
   "source": [
    "def evaluate(model, iterator, criterion):\n",
    "    \n",
    "    epoch_loss = 0\n",
    "    epoch_acc = 0\n",
    "    \n",
    "    model.eval()\n",
    "    \n",
    "    with torch.no_grad():\n",
    "        #print(\"len of iterator\", len(iterator))\n",
    "        for batch in iterator:\n",
    "            try:\n",
    "                #print(\"text \", batch.text.stoi, \"label \", batch.labels)\n",
    "                \n",
    "                predictions = model(batch.text)\n",
    "\n",
    "                loss = criterion(predictions, batch.labels)\n",
    "\n",
    "                acc = categorical_accuracy(predictions, batch.labels)\n",
    "\n",
    "                epoch_loss += loss.item()\n",
    "                epoch_acc += acc.item()\n",
    "            except Exception as e:\n",
    "                print(\"found exception\")\n",
    "\n",
    "\n",
    "    \n",
    "    return epoch_loss / len(iterator), epoch_acc / len(iterator)"
   ]
  },
  {
   "cell_type": "code",
   "execution_count": 399,
   "metadata": {},
   "outputs": [],
   "source": [
    "import time\n",
    "\n",
    "def epoch_time(start_time, end_time):\n",
    "    elapsed_time = end_time - start_time\n",
    "    elapsed_mins = int(elapsed_time / 60)\n",
    "    elapsed_secs = int(elapsed_time - (elapsed_mins * 60))\n",
    "    return elapsed_mins, elapsed_secs"
   ]
  },
  {
   "cell_type": "code",
   "execution_count": 400,
   "metadata": {
    "scrolled": true
   },
   "outputs": [
    {
     "name": "stdout",
     "output_type": "stream",
     "text": [
      "Epoch: 01 | Epoch Time: 0m 2s\n",
      "\tTrain Loss: 3.957 | Train Acc: 13.82%\n",
      "Epoch: 02 | Epoch Time: 0m 2s\n",
      "\tTrain Loss: 3.306 | Train Acc: 30.09%\n",
      "Epoch: 03 | Epoch Time: 0m 2s\n",
      "\tTrain Loss: 2.802 | Train Acc: 41.57%\n",
      "Epoch: 04 | Epoch Time: 0m 2s\n",
      "\tTrain Loss: 2.346 | Train Acc: 48.66%\n",
      "Epoch: 05 | Epoch Time: 0m 2s\n",
      "\tTrain Loss: 1.981 | Train Acc: 51.99%\n",
      "Epoch: 06 | Epoch Time: 0m 2s\n",
      "\tTrain Loss: 1.688 | Train Acc: 55.15%\n",
      "Epoch: 07 | Epoch Time: 0m 2s\n",
      "\tTrain Loss: 1.463 | Train Acc: 57.87%\n",
      "Epoch: 08 | Epoch Time: 0m 2s\n",
      "\tTrain Loss: 1.290 | Train Acc: 59.80%\n",
      "Epoch: 09 | Epoch Time: 0m 2s\n",
      "\tTrain Loss: 1.165 | Train Acc: 61.52%\n",
      "Epoch: 10 | Epoch Time: 0m 2s\n",
      "\tTrain Loss: 1.051 | Train Acc: 63.62%\n",
      "Epoch: 11 | Epoch Time: 0m 2s\n",
      "\tTrain Loss: 0.973 | Train Acc: 64.51%\n",
      "Epoch: 12 | Epoch Time: 0m 2s\n",
      "\tTrain Loss: 0.911 | Train Acc: 65.54%\n",
      "Epoch: 13 | Epoch Time: 0m 2s\n",
      "\tTrain Loss: 0.875 | Train Acc: 65.18%\n",
      "Epoch: 14 | Epoch Time: 0m 2s\n",
      "\tTrain Loss: 0.836 | Train Acc: 65.63%\n",
      "Epoch: 15 | Epoch Time: 0m 2s\n",
      "\tTrain Loss: 0.804 | Train Acc: 66.00%\n",
      "Epoch: 16 | Epoch Time: 0m 2s\n",
      "\tTrain Loss: 0.776 | Train Acc: 67.10%\n",
      "Epoch: 17 | Epoch Time: 0m 2s\n",
      "\tTrain Loss: 0.753 | Train Acc: 66.51%\n",
      "Epoch: 18 | Epoch Time: 0m 2s\n",
      "\tTrain Loss: 0.736 | Train Acc: 67.02%\n",
      "Epoch: 19 | Epoch Time: 0m 2s\n",
      "\tTrain Loss: 0.719 | Train Acc: 67.18%\n",
      "Epoch: 20 | Epoch Time: 0m 2s\n",
      "\tTrain Loss: 0.709 | Train Acc: 67.51%\n",
      "Epoch: 21 | Epoch Time: 0m 2s\n",
      "\tTrain Loss: 0.700 | Train Acc: 66.69%\n",
      "Epoch: 22 | Epoch Time: 0m 2s\n",
      "\tTrain Loss: 0.697 | Train Acc: 67.24%\n",
      "Epoch: 23 | Epoch Time: 0m 2s\n",
      "\tTrain Loss: 0.689 | Train Acc: 67.11%\n",
      "Epoch: 24 | Epoch Time: 0m 2s\n",
      "\tTrain Loss: 0.673 | Train Acc: 67.54%\n",
      "Epoch: 25 | Epoch Time: 0m 2s\n",
      "\tTrain Loss: 0.673 | Train Acc: 67.25%\n"
     ]
    }
   ],
   "source": [
    "N_EPOCHS = 25\n",
    "\n",
    "best_valid_loss = float('inf')\n",
    "\n",
    "for epoch in range(N_EPOCHS):\n",
    "\n",
    "    start_time = time.time()\n",
    "    #print(\"before train...1\")\n",
    "    \n",
    "    train_loss, train_acc = train(model, train_iterator, optimizer, criterion)\n",
    "    #print(\"train done\")\n",
    "    valid_loss, valid_acc = evaluate(model, valid_iterator, criterion)\n",
    "    \n",
    "    end_time = time.time()\n",
    "\n",
    "    epoch_mins, epoch_secs = epoch_time(start_time, end_time)\n",
    "        \n",
    "    if valid_loss < best_valid_loss:\n",
    "        best_valid_loss = valid_loss\n",
    "        torch.save(model.state_dict(), 'tut5-model.pt')\n",
    "    \n",
    "    print(f'Epoch: {epoch+1:02} | Epoch Time: {epoch_mins}m {epoch_secs}s')\n",
    "    print(f'\\tTrain Loss: {train_loss:.3f} | Train Acc: {train_acc*100:.2f}%')\n",
    "    #print(f'\\t Val. Loss: {valid_loss:.3f} |  Val. Acc: {valid_acc*100:.2f}%')"
   ]
  },
  {
   "cell_type": "code",
   "execution_count": 401,
   "metadata": {},
   "outputs": [
    {
     "name": "stdout",
     "output_type": "stream",
     "text": [
      "Test Loss: 0.716 | Test Acc: 67.53%\n"
     ]
    }
   ],
   "source": [
    "model.load_state_dict(torch.load('tut5-model.pt'))\n",
    "\n",
    "test_loss, test_acc = evaluate(model, valid_iterator, criterion)\n",
    "\n",
    "print(f'Test Loss: {test_loss:.3f} | Test Acc: {test_acc*100:.2f}%')"
   ]
  },
  {
   "cell_type": "code",
   "execution_count": 348,
   "metadata": {},
   "outputs": [],
   "source": [
    "import spacy\n",
    "nlp = spacy.load('en')\n",
    "\n",
    "def predict_class(model, sentence, min_len = 4):\n",
    "    model.eval()\n",
    "    tokenized = [tok.text for tok in nlp.tokenizer(sentence)]\n",
    "    if len(tokenized) < min_len:\n",
    "        tokenized += ['<pad>'] * (min_len - len(tokenized))\n",
    "    indexed = [TEXT.vocab.stoi[t] for t in tokenized]\n",
    "    tensor = torch.LongTensor(indexed).to(device)\n",
    "    tensor = tensor.unsqueeze(1)\n",
    "    preds = model(tensor)\n",
    "    max_preds = preds.argmax(dim = 1)\n",
    "    return max_preds.item()"
   ]
  },
  {
   "cell_type": "code",
   "execution_count": 349,
   "metadata": {},
   "outputs": [
    {
     "name": "stdout",
     "output_type": "stream",
     "text": [
      "Predicted class is: 7 = location tags\n"
     ]
    }
   ],
   "source": [
    "pred_class = predict_class(model, removeCamelCase(\"android telephony Telephony Manager get Device Id\"))\n",
    "print(f'Predicted class is: {pred_class} = {LABEL.vocab.itos[pred_class]}')"
   ]
  },
  {
   "cell_type": "code",
   "execution_count": 59,
   "metadata": {},
   "outputs": [
    {
     "name": "stdout",
     "output_type": "stream",
     "text": [
      "Predicted class is: 0 = defaultdict(None, {'network measurements': 0, 'bluetooth settings': 1, 'location': 2, 'telecommunications carrier information': 3, 'wi-fi access point information': 4, 'carrier network': 5, 'installed applications': 6, 'location tags': 7, 'operating system information': 8, 'cell towers': 9, 'gps information': 10, 'network protocol': 11, 'network type': 12, 'url': 13, 'device characteristics': 14, 'files': 15, 'mobile device language setting': 16, 'country': 17, 'device id': 18, 'gps': 19, 'mcc': 20, 'phone number': 21, 'sensors': 22, 'user information': 23, 'wifi signal strength': 24, 'zip code': 25, 'application software': 26, 'browser type': 27, 'chat text': 28, 'contacts': 29, 'domain servers': 30, 'ip address': 31, 'longitude': 32, 'network information': 33, 'sms messages': 34, 'text messages': 35, 'unique application number': 36, 'unique device id': 37, 'user content': 38, 'address book': 39, 'application information': 40, 'application version number': 41, 'area code': 42, 'browser language': 43, 'calendar entries': 44, 'chat histories': 45, 'cookies': 46, 'data': 47, 'device capability': 48, 'device information': 49, 'device name': 50, 'devices hardware': 51, 'hardware device id': 52, 'hardware information': 53, 'hardware settings': 54, 'high-level geographic information': 55, 'imei': 56, 'latitude': 57, 'location information': 58, 'mobile device id': 59, 'mobile device type': 60, 'mobile phone model': 61, 'mobile service carrier name': 62, 'peripherals': 63, 'postal code': 64, 'preferred language': 65, 'real-time location-based information': 66, 'referral url': 67, 'service usage details': 68, 'specifc location data': 69, 'specific geolocation': 70, 'time': 71, 'time zone': 72, 'udid': 73, 'users internet protocol': 74, 'wi-fi access points': 75})\n"
     ]
    }
   ],
   "source": [
    "print(f'Predicted class is: {pred_class} = {LABEL.vocab.stoi}')"
   ]
  },
  {
   "cell_type": "code",
   "execution_count": null,
   "metadata": {},
   "outputs": [],
   "source": []
  },
  {
   "cell_type": "code",
   "execution_count": null,
   "metadata": {},
   "outputs": [],
   "source": []
  },
  {
   "cell_type": "code",
   "execution_count": null,
   "metadata": {},
   "outputs": [],
   "source": []
  }
 ],
 "metadata": {
  "kernelspec": {
   "display_name": "Python 3",
   "language": "python",
   "name": "python3"
  },
  "language_info": {
   "codemirror_mode": {
    "name": "ipython",
    "version": 3
   },
   "file_extension": ".py",
   "mimetype": "text/x-python",
   "name": "python",
   "nbconvert_exporter": "python",
   "pygments_lexer": "ipython3",
   "version": "3.7.3"
  }
 },
 "nbformat": 4,
 "nbformat_minor": 4
}
